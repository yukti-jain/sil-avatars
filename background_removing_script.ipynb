{
  "cells": [
    {
      "cell_type": "code",
      "execution_count": null,
      "id": "06b8fb77",
      "metadata": {
        "colab": {
          "base_uri": "https://localhost:8080/"
        },
        "id": "06b8fb77",
        "outputId": "65f28c5b-3342-4739-f720-8e9fdb828950"
      },
      "outputs": [
        {
          "output_type": "stream",
          "name": "stdout",
          "text": [
            "Collecting rembg\n",
            "  Downloading rembg-2.0.56-py3-none-any.whl (32 kB)\n",
            "Requirement already satisfied: jsonschema in /usr/local/lib/python3.10/dist-packages (from rembg) (4.19.2)\n",
            "Requirement already satisfied: numpy in /usr/local/lib/python3.10/dist-packages (from rembg) (1.25.2)\n",
            "Collecting onnxruntime (from rembg)\n",
            "  Downloading onnxruntime-1.17.1-cp310-cp310-manylinux_2_27_x86_64.manylinux_2_28_x86_64.whl (6.8 MB)\n",
            "\u001b[2K     \u001b[90m━━━━━━━━━━━━━━━━━━━━━━━━━━━━━━━━━━━━━━━━\u001b[0m \u001b[32m6.8/6.8 MB\u001b[0m \u001b[31m22.4 MB/s\u001b[0m eta \u001b[36m0:00:00\u001b[0m\n",
            "\u001b[?25hRequirement already satisfied: opencv-python-headless in /usr/local/lib/python3.10/dist-packages (from rembg) (4.9.0.80)\n",
            "Requirement already satisfied: pillow in /usr/local/lib/python3.10/dist-packages (from rembg) (9.4.0)\n",
            "Requirement already satisfied: pooch in /usr/local/lib/python3.10/dist-packages (from rembg) (1.8.1)\n",
            "Collecting pymatting (from rembg)\n",
            "  Downloading PyMatting-1.1.12-py3-none-any.whl (52 kB)\n",
            "\u001b[2K     \u001b[90m━━━━━━━━━━━━━━━━━━━━━━━━━━━━━━━━━━━━━━━━\u001b[0m \u001b[32m53.0/53.0 kB\u001b[0m \u001b[31m5.7 MB/s\u001b[0m eta \u001b[36m0:00:00\u001b[0m\n",
            "\u001b[?25hRequirement already satisfied: scikit-image in /usr/local/lib/python3.10/dist-packages (from rembg) (0.19.3)\n",
            "Requirement already satisfied: scipy in /usr/local/lib/python3.10/dist-packages (from rembg) (1.11.4)\n",
            "Requirement already satisfied: tqdm in /usr/local/lib/python3.10/dist-packages (from rembg) (4.66.2)\n",
            "Requirement already satisfied: attrs>=22.2.0 in /usr/local/lib/python3.10/dist-packages (from jsonschema->rembg) (23.2.0)\n",
            "Requirement already satisfied: jsonschema-specifications>=2023.03.6 in /usr/local/lib/python3.10/dist-packages (from jsonschema->rembg) (2023.12.1)\n",
            "Requirement already satisfied: referencing>=0.28.4 in /usr/local/lib/python3.10/dist-packages (from jsonschema->rembg) (0.33.0)\n",
            "Requirement already satisfied: rpds-py>=0.7.1 in /usr/local/lib/python3.10/dist-packages (from jsonschema->rembg) (0.18.0)\n",
            "Collecting coloredlogs (from onnxruntime->rembg)\n",
            "  Downloading coloredlogs-15.0.1-py2.py3-none-any.whl (46 kB)\n",
            "\u001b[2K     \u001b[90m━━━━━━━━━━━━━━━━━━━━━━━━━━━━━━━━━━━━━━━━\u001b[0m \u001b[32m46.0/46.0 kB\u001b[0m \u001b[31m5.1 MB/s\u001b[0m eta \u001b[36m0:00:00\u001b[0m\n",
            "\u001b[?25hRequirement already satisfied: flatbuffers in /usr/local/lib/python3.10/dist-packages (from onnxruntime->rembg) (24.3.7)\n",
            "Requirement already satisfied: packaging in /usr/local/lib/python3.10/dist-packages (from onnxruntime->rembg) (24.0)\n",
            "Requirement already satisfied: protobuf in /usr/local/lib/python3.10/dist-packages (from onnxruntime->rembg) (3.20.3)\n",
            "Requirement already satisfied: sympy in /usr/local/lib/python3.10/dist-packages (from onnxruntime->rembg) (1.12)\n",
            "Requirement already satisfied: platformdirs>=2.5.0 in /usr/local/lib/python3.10/dist-packages (from pooch->rembg) (4.2.0)\n",
            "Requirement already satisfied: requests>=2.19.0 in /usr/local/lib/python3.10/dist-packages (from pooch->rembg) (2.31.0)\n",
            "Requirement already satisfied: numba!=0.49.0 in /usr/local/lib/python3.10/dist-packages (from pymatting->rembg) (0.58.1)\n",
            "Requirement already satisfied: networkx>=2.2 in /usr/local/lib/python3.10/dist-packages (from scikit-image->rembg) (3.2.1)\n",
            "Requirement already satisfied: imageio>=2.4.1 in /usr/local/lib/python3.10/dist-packages (from scikit-image->rembg) (2.31.6)\n",
            "Requirement already satisfied: tifffile>=2019.7.26 in /usr/local/lib/python3.10/dist-packages (from scikit-image->rembg) (2024.2.12)\n",
            "Requirement already satisfied: PyWavelets>=1.1.1 in /usr/local/lib/python3.10/dist-packages (from scikit-image->rembg) (1.5.0)\n",
            "Requirement already satisfied: llvmlite<0.42,>=0.41.0dev0 in /usr/local/lib/python3.10/dist-packages (from numba!=0.49.0->pymatting->rembg) (0.41.1)\n",
            "Requirement already satisfied: charset-normalizer<4,>=2 in /usr/local/lib/python3.10/dist-packages (from requests>=2.19.0->pooch->rembg) (3.3.2)\n",
            "Requirement already satisfied: idna<4,>=2.5 in /usr/local/lib/python3.10/dist-packages (from requests>=2.19.0->pooch->rembg) (3.6)\n",
            "Requirement already satisfied: urllib3<3,>=1.21.1 in /usr/local/lib/python3.10/dist-packages (from requests>=2.19.0->pooch->rembg) (2.0.7)\n",
            "Requirement already satisfied: certifi>=2017.4.17 in /usr/local/lib/python3.10/dist-packages (from requests>=2.19.0->pooch->rembg) (2024.2.2)\n",
            "Collecting humanfriendly>=9.1 (from coloredlogs->onnxruntime->rembg)\n",
            "  Downloading humanfriendly-10.0-py2.py3-none-any.whl (86 kB)\n",
            "\u001b[2K     \u001b[90m━━━━━━━━━━━━━━━━━━━━━━━━━━━━━━━━━━━━━━━━\u001b[0m \u001b[32m86.8/86.8 kB\u001b[0m \u001b[31m9.7 MB/s\u001b[0m eta \u001b[36m0:00:00\u001b[0m\n",
            "\u001b[?25hRequirement already satisfied: mpmath>=0.19 in /usr/local/lib/python3.10/dist-packages (from sympy->onnxruntime->rembg) (1.3.0)\n",
            "Installing collected packages: humanfriendly, pymatting, coloredlogs, onnxruntime, rembg\n",
            "Successfully installed coloredlogs-15.0.1 humanfriendly-10.0 onnxruntime-1.17.1 pymatting-1.1.12 rembg-2.0.56\n"
          ]
        }
      ],
      "source": [
        "!pip install rembg\n"
      ]
    },
    {
      "cell_type": "code",
      "source": [
        "from google.colab import drive\n",
        "drive.mount('/content/drive')"
      ],
      "metadata": {
        "colab": {
          "base_uri": "https://localhost:8080/"
        },
        "id": "eN7JSH7b1RbI",
        "outputId": "0b49ee38-e1a2-40f8-8220-67a51a0e0a12"
      },
      "id": "eN7JSH7b1RbI",
      "execution_count": null,
      "outputs": [
        {
          "output_type": "stream",
          "name": "stdout",
          "text": [
            "Mounted at /content/drive\n"
          ]
        }
      ]
    },
    {
      "cell_type": "code",
      "execution_count": null,
      "id": "8c628c6e",
      "metadata": {
        "id": "8c628c6e"
      },
      "outputs": [],
      "source": [
        "from rembg import remove\n",
        "from PIL import Image\n",
        "import io\n",
        "\n",
        "# Load your input image\n",
        "input_path = r'Kalash_generated/'\n",
        "output_path = r'Kalash_generated/'\n",
        "\n",
        "# Read the image\n",
        "for j in range(1,156):\n",
        "    with open(input_path+'k ('+str(j)+').png', 'rb') as i:\n",
        "        input_data = i.read()\n",
        "\n",
        "# Remove the background\n",
        "    output_data = remove(input_data)\n",
        "\n",
        "# Save the output image\n",
        "    with open(output_path+'bgrm'+str(j)+'.png', 'wb') as o:\n",
        "        o.write(output_data)\n"
      ]
    },
    {
      "cell_type": "code",
      "execution_count": null,
      "id": "bafd965d",
      "metadata": {
        "id": "bafd965d"
      },
      "outputs": [],
      "source": [
        "\"C:\\Users\\Zeeshan Gilani\\OneDrive\\Desktop\\Thanmayee_images\\t (2).jpg\""
      ]
    },
    {
      "cell_type": "code",
      "execution_count": null,
      "id": "89e42473",
      "metadata": {
        "colab": {
          "base_uri": "https://localhost:8080/"
        },
        "id": "89e42473",
        "outputId": "5753e0b2-eadf-485f-8077-a538329f31d2"
      },
      "outputs": [
        {
          "output_type": "stream",
          "name": "stderr",
          "text": [
            "Downloading data from 'https://github.com/danielgatis/rembg/releases/download/v0.0.0/u2net.onnx' to file '/root/.u2net/u2net.onnx'.\n",
            "100%|███████████████████████████████████████| 176M/176M [00:00<00:00, 64.4GB/s]\n"
          ]
        }
      ],
      "source": [
        "from rembg import remove\n",
        "from PIL import Image\n",
        "import io\n",
        "\n",
        "# Load your input image\n",
        "input_path = '/content/drive/MyDrive/Output_Images/image_13_0.jpg'\n",
        "output_path = '/content/drive/MyDrive/Output_Images/image12.jpg'\n",
        "\n",
        "# Read the image\n",
        "with open(input_path, 'rb') as i:\n",
        "    input_data = i.read()\n",
        "\n",
        "# Remove the background\n",
        "output_data = remove(input_data)\n",
        "\n",
        "# Save the output image\n",
        "with open(output_path, 'wb') as o:\n",
        "    o.write(output_data)\n"
      ]
    },
    {
      "cell_type": "code",
      "execution_count": null,
      "id": "0cca3b96",
      "metadata": {
        "id": "0cca3b96"
      },
      "outputs": [],
      "source": [
        "from PIL import Image\n",
        "import random\n",
        "\n",
        "def random_color():\n",
        "    \"\"\"Generate a random color.\"\"\"\n",
        "    return (random.randint(0, 255), random.randint(0, 255), random.randint(0, 255))\n",
        "\n",
        "def add_random_colored_background(image_path, output_path):\n",
        "    # Open the input image (assumed to be a PNG with transparent background)\n",
        "    with Image.open(image_path) as im:\n",
        "        # Ensure image is RGBA (has an alpha channel)\n",
        "        im = im.convert(\"RGBA\")\n",
        "\n",
        "        # Create a new image with random background color\n",
        "        with Image.new(\"RGBA\", im.size, random_color() + (255,)) as background:\n",
        "            # Combine original image with background\n",
        "            combined = Image.alpha_composite(background, im)\n",
        "\n",
        "            # Convert to RGB and save\n",
        "            combined.convert(\"RGB\").save(output_path)"
      ]
    },
    {
      "cell_type": "code",
      "execution_count": null,
      "id": "25956b75",
      "metadata": {
        "id": "25956b75"
      },
      "outputs": [],
      "source": [
        "# Example usage\n",
        "input_path = r'Kalash_generated/'\n",
        "output_path=r'Kalash_generated_output/'\n",
        "for j in range(1,156):\n",
        "    add_random_colored_background(input_path+'bgrm'+str(j)+'.png', output_path+'rmbg'+str(j)+'.png')"
      ]
    },
    {
      "cell_type": "code",
      "execution_count": null,
      "id": "4287bd1b",
      "metadata": {
        "id": "4287bd1b"
      },
      "outputs": [],
      "source": [
        "add_random_colored_background(input_path, output_path+'rmbg'+'.png')"
      ]
    },
    {
      "cell_type": "code",
      "execution_count": null,
      "id": "18de9ac3",
      "metadata": {
        "id": "18de9ac3"
      },
      "outputs": [],
      "source": []
    }
  ],
  "metadata": {
    "kernelspec": {
      "display_name": "Python 3 (ipykernel)",
      "language": "python",
      "name": "python3"
    },
    "language_info": {
      "codemirror_mode": {
        "name": "ipython",
        "version": 3
      },
      "file_extension": ".py",
      "mimetype": "text/x-python",
      "name": "python",
      "nbconvert_exporter": "python",
      "pygments_lexer": "ipython3",
      "version": "3.11.5"
    },
    "colab": {
      "provenance": []
    }
  },
  "nbformat": 4,
  "nbformat_minor": 5
}